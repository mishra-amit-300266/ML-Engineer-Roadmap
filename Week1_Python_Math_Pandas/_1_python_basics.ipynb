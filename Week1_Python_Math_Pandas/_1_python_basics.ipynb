{
  "nbformat": 4,
  "nbformat_minor": 0,
  "metadata": {
    "colab": {
      "provenance": [],
      "authorship_tag": "ABX9TyPqTIkejUZcBjA4OIxUuqX5",
      "include_colab_link": true
    },
    "kernelspec": {
      "name": "python3",
      "display_name": "Python 3"
    },
    "language_info": {
      "name": "python"
    }
  },
  "cells": [
    {
      "cell_type": "markdown",
      "metadata": {
        "id": "view-in-github",
        "colab_type": "text"
      },
      "source": [
        "<a href=\"https://colab.research.google.com/github/mishra-amit-300266/ML-Engineer-Roadmap/blob/main/Week1_Python_Math_Pandas/_1_python_basics.ipynb\" target=\"_parent\"><img src=\"https://colab.research.google.com/assets/colab-badge.svg\" alt=\"Open In Colab\"/></a>"
      ]
    },
    {
      "cell_type": "markdown",
      "source": [
        "Ques1 Even or Odd Checker"
      ],
      "metadata": {
        "id": "TrYGk8gfCiNt"
      }
    },
    {
      "cell_type": "code",
      "source": [
        "var = int(input(\"Enter the number\"))\n",
        "if var%2==0:\n",
        "  print(\"It is an even number\")\n",
        "else:\n",
        "  print(\"It is an odd number\")"
      ],
      "metadata": {
        "colab": {
          "base_uri": "https://localhost:8080/"
        },
        "id": "k7jM9DTiB-UX",
        "outputId": "a4c0b5bf-7514-4122-9f27-52bf84c6f2b8"
      },
      "execution_count": 3,
      "outputs": [
        {
          "output_type": "stream",
          "name": "stdout",
          "text": [
            "Enter the number14\n",
            "It is an even number\n"
          ]
        }
      ]
    },
    {
      "cell_type": "markdown",
      "source": [
        "Ques2 Number divisible by 3 (1 to 50)"
      ],
      "metadata": {
        "id": "pnWtuSgYDCIy"
      }
    },
    {
      "cell_type": "code",
      "source": [
        "li = []\n",
        "for i in range(1,51):\n",
        "  if(i%3==0):\n",
        "    li.append(i)\n",
        "li"
      ],
      "metadata": {
        "colab": {
          "base_uri": "https://localhost:8080/"
        },
        "id": "edFaqN8zC7gk",
        "outputId": "835c4986-5226-42a6-f065-7bc9cd99bea9"
      },
      "execution_count": 5,
      "outputs": [
        {
          "output_type": "execute_result",
          "data": {
            "text/plain": [
              "[3, 6, 9, 12, 15, 18, 21, 24, 27, 30, 33, 36, 39, 42, 45, 48]"
            ]
          },
          "metadata": {},
          "execution_count": 5
        }
      ]
    },
    {
      "cell_type": "markdown",
      "source": [
        "Ques3 Prime number checker"
      ],
      "metadata": {
        "id": "5eZFa9S9Da1m"
      }
    },
    {
      "cell_type": "code",
      "source": [
        "num = int(input(\"Enter the number\"))\n",
        "check = True\n",
        "for i in range(2,num):\n",
        "  if num%i==0:\n",
        "    print(\"It is not a prime number\")\n",
        "    check = False\n",
        "    break\n",
        "if(check):\n",
        "  print(\"It is a prime number\")"
      ],
      "metadata": {
        "colab": {
          "base_uri": "https://localhost:8080/"
        },
        "id": "w3PlG6LQDQMU",
        "outputId": "6835b78f-065e-47a4-fc67-1b8e6705e710"
      },
      "execution_count": 7,
      "outputs": [
        {
          "output_type": "stream",
          "name": "stdout",
          "text": [
            "Enter the number50\n",
            "It is not a prime number\n"
          ]
        }
      ]
    },
    {
      "cell_type": "markdown",
      "source": [
        "Ques4 Number Guessing game"
      ],
      "metadata": {
        "id": "hMd5Xp92ECSk"
      }
    },
    {
      "cell_type": "code",
      "source": [
        "import random\n",
        "attempt = 0\n",
        "while True:\n",
        "  num = int(input(\"Enter the number\"))\n",
        "  temp = random.randint(1,10)\n",
        "  attempt += 1\n",
        "  if(num == temp):\n",
        "    break\n",
        "print(\"Total number of attempts: \", attempt)"
      ],
      "metadata": {
        "colab": {
          "base_uri": "https://localhost:8080/"
        },
        "id": "ht8Yo_VQD9tl",
        "outputId": "7725514f-077e-43aa-d275-d62f0aa9eb79"
      },
      "execution_count": 9,
      "outputs": [
        {
          "output_type": "stream",
          "name": "stdout",
          "text": [
            "Enter the number5\n",
            "Enter the number4\n",
            "Enter the number3\n",
            "Total number of attempts:  3\n"
          ]
        }
      ]
    },
    {
      "cell_type": "markdown",
      "source": [
        "Ques5 Print a Star Patter"
      ],
      "metadata": {
        "id": "La0RuXxMEub0"
      }
    },
    {
      "cell_type": "code",
      "source": [
        "for i in range(1,6):\n",
        "  for j in range(i):\n",
        "    print(\"*\",end=\"\")\n",
        "  print(\"\\n\")"
      ],
      "metadata": {
        "colab": {
          "base_uri": "https://localhost:8080/"
        },
        "id": "pMeH9ittEoYK",
        "outputId": "f25eab49-f026-4fea-d541-6c89dc44dfd5"
      },
      "execution_count": 12,
      "outputs": [
        {
          "output_type": "stream",
          "name": "stdout",
          "text": [
            "*\n",
            "\n",
            "**\n",
            "\n",
            "***\n",
            "\n",
            "****\n",
            "\n",
            "*****\n",
            "\n"
          ]
        }
      ]
    },
    {
      "cell_type": "code",
      "source": [],
      "metadata": {
        "id": "Wg5NbDOKFBGu"
      },
      "execution_count": null,
      "outputs": []
    }
  ]
}