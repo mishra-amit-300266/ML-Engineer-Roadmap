{
  "nbformat": 4,
  "nbformat_minor": 0,
  "metadata": {
    "colab": {
      "provenance": [],
      "authorship_tag": "ABX9TyO2bFGkPvwTIolGl3jfsuUS",
      "include_colab_link": true
    },
    "kernelspec": {
      "name": "python3",
      "display_name": "Python 3"
    },
    "language_info": {
      "name": "python"
    }
  },
  "cells": [
    {
      "cell_type": "markdown",
      "metadata": {
        "id": "view-in-github",
        "colab_type": "text"
      },
      "source": [
        "<a href=\"https://colab.research.google.com/github/mishra-amit-300266/ML-Engineer-Roadmap/blob/main/Week1_Python_Math_Pandas/_numpy_basics.ipynb\" target=\"_parent\"><img src=\"https://colab.research.google.com/assets/colab-badge.svg\" alt=\"Open In Colab\"/></a>"
      ]
    },
    {
      "cell_type": "code",
      "execution_count": 1,
      "metadata": {
        "id": "HkxVR7onCqkQ"
      },
      "outputs": [],
      "source": [
        "# NumPy Learning Notebook: Core Concepts & Uses\n",
        "\n",
        "import numpy as np"
      ]
    },
    {
      "cell_type": "code",
      "source": [
        "# 1. Array Creation\n",
        "arr1 = np.array([1, 2, 3])            # 1D array\n",
        "arr2 = np.array([[1, 2], [3, 4]])     # 2D array\n",
        "arr3 = np.zeros((2, 3))              # 2x3 array of zeros\n",
        "arr4 = np.ones((3, 2))               # 3x2 array of ones\n",
        "arr5 = np.eye(3)                     # Identity matrix\n",
        "arr6 = np.arange(0, 10, 2)           # [0, 2, 4, 6, 8]\n",
        "arr7 = np.linspace(0, 1, 5)          # 5 values from 0 to 1"
      ],
      "metadata": {
        "id": "MEj1I0XPDp5o"
      },
      "execution_count": 2,
      "outputs": []
    },
    {
      "cell_type": "code",
      "source": [
        "print(arr1,arr2,arr3,arr4,arr5,arr6,arr7)"
      ],
      "metadata": {
        "colab": {
          "base_uri": "https://localhost:8080/"
        },
        "id": "Rl14WqyCDwmQ",
        "outputId": "377afe0d-5adb-4c44-eb55-ae57d3699389"
      },
      "execution_count": 3,
      "outputs": [
        {
          "output_type": "stream",
          "name": "stdout",
          "text": [
            "[1 2 3] [[1 2]\n",
            " [3 4]] [[0. 0. 0.]\n",
            " [0. 0. 0.]] [[1. 1.]\n",
            " [1. 1.]\n",
            " [1. 1.]] [[1. 0. 0.]\n",
            " [0. 1. 0.]\n",
            " [0. 0. 1.]] [0 2 4 6 8] [0.   0.25 0.5  0.75 1.  ]\n"
          ]
        }
      ]
    },
    {
      "cell_type": "code",
      "source": [
        "# 2. Array Properties\n",
        "print(\"Shape:\", arr2.shape)\n",
        "print(\"Size:\", arr2.size)\n",
        "print(\"Data type:\", arr2.dtype)\n",
        "print(\"Dimensions:\", arr2.ndim)"
      ],
      "metadata": {
        "colab": {
          "base_uri": "https://localhost:8080/"
        },
        "id": "MjLKZZk7D7N5",
        "outputId": "f8c231bd-83df-4339-9029-b858e9a1e244"
      },
      "execution_count": 4,
      "outputs": [
        {
          "output_type": "stream",
          "name": "stdout",
          "text": [
            "Shape: (2, 2)\n",
            "Size: 4\n",
            "Data type: int64\n",
            "Dimensions: 2\n"
          ]
        }
      ]
    },
    {
      "cell_type": "code",
      "source": [
        "# 3. Indexing & Slicing\n",
        "arr = np.array([[10, 20, 30], [40, 50, 60]])\n",
        "print(\"Element at row 1, col 2:\", arr[1, 2])\n",
        "print(\"First row:\", arr[0])\n",
        "print(\"First column:\", arr[:, 0])\n",
        "print(\"Submatrix:\", arr[0:2, 1:3])"
      ],
      "metadata": {
        "colab": {
          "base_uri": "https://localhost:8080/"
        },
        "id": "maN0T5sHEHjH",
        "outputId": "2d4029a6-1d89-43bf-b99a-d6018811c8f9"
      },
      "execution_count": 5,
      "outputs": [
        {
          "output_type": "stream",
          "name": "stdout",
          "text": [
            "Element at row 1, col 2: 60\n",
            "First row: [10 20 30]\n",
            "First column: [10 40]\n",
            "Submatrix: [[20 30]\n",
            " [50 60]]\n"
          ]
        }
      ]
    },
    {
      "cell_type": "code",
      "source": [
        "# 4. Arithmetic Operations\n",
        "x = np.array([1, 2, 3])\n",
        "y = np.array([4, 5, 6])\n",
        "print(\"Addition:\", x + y)\n",
        "print(\"Multiplication:\", x * y)\n",
        "print(\"Dot product:\", np.dot(x, y))"
      ],
      "metadata": {
        "colab": {
          "base_uri": "https://localhost:8080/"
        },
        "id": "FHOTCT9xEWNI",
        "outputId": "8a60d935-61bd-42d1-cafd-e235c99d057d"
      },
      "execution_count": 6,
      "outputs": [
        {
          "output_type": "stream",
          "name": "stdout",
          "text": [
            "Addition: [5 7 9]\n",
            "Multiplication: [ 4 10 18]\n",
            "Dot product: 32\n"
          ]
        }
      ]
    },
    {
      "cell_type": "code",
      "source": [
        "# 5. Useful Functions\n",
        "mat = np.array([[1, 2], [3, 4]])\n",
        "print(\"Sum:\", np.sum(mat))\n",
        "print(\"Mean:\", np.mean(mat))\n",
        "print(\"Standard Deviation:\", np.std(mat))\n",
        "print(\"Transpose:\\n\", mat.T)"
      ],
      "metadata": {
        "colab": {
          "base_uri": "https://localhost:8080/"
        },
        "id": "ru2QRjGnEvJO",
        "outputId": "489f868a-39ea-43fa-90cb-870f8c86816d"
      },
      "execution_count": 7,
      "outputs": [
        {
          "output_type": "stream",
          "name": "stdout",
          "text": [
            "Sum: 10\n",
            "Mean: 2.5\n",
            "Standard Deviation: 1.118033988749895\n",
            "Transpose:\n",
            " [[1 3]\n",
            " [2 4]]\n"
          ]
        }
      ]
    },
    {
      "cell_type": "code",
      "source": [
        "# 6. Reshaping & Flattening\n",
        "original = np.arange(12)\n",
        "reshaped = original.reshape((3, 4))\n",
        "flattened = reshaped.flatten()\n",
        "print(\"Original:\", original)\n",
        "print(\"Reshaped:\", reshaped)\n",
        "print(\"Flattened:\", flattened)"
      ],
      "metadata": {
        "colab": {
          "base_uri": "https://localhost:8080/"
        },
        "id": "MlufsxtsE0cq",
        "outputId": "52adff33-bf93-46ae-cc9c-24d9cfd213be"
      },
      "execution_count": 8,
      "outputs": [
        {
          "output_type": "stream",
          "name": "stdout",
          "text": [
            "Original: [ 0  1  2  3  4  5  6  7  8  9 10 11]\n",
            "Reshaped: [[ 0  1  2  3]\n",
            " [ 4  5  6  7]\n",
            " [ 8  9 10 11]]\n",
            "Flattened: [ 0  1  2  3  4  5  6  7  8  9 10 11]\n"
          ]
        }
      ]
    },
    {
      "cell_type": "code",
      "source": [
        "# 7. Stacking Arrays\n",
        "arr_a = np.array([[1, 2], [3, 4]])\n",
        "arr_b = np.array([[5, 6]])\n",
        "print(\"Vertical Stack:\\n\", np.vstack((arr_a, arr_b)))\n",
        "print(\"Horizontal Stack:\\n\", np.hstack((arr_a, arr_a)))"
      ],
      "metadata": {
        "colab": {
          "base_uri": "https://localhost:8080/"
        },
        "id": "X3plsTuHE-0T",
        "outputId": "4de5efa3-0bf0-4c69-94f4-439ecf7e8d98"
      },
      "execution_count": 11,
      "outputs": [
        {
          "output_type": "stream",
          "name": "stdout",
          "text": [
            "Vertical Stack:\n",
            " [[1 2]\n",
            " [3 4]\n",
            " [5 6]]\n",
            "Horizontal Stack:\n",
            " [[1 2 1 2]\n",
            " [3 4 3 4]]\n"
          ]
        }
      ]
    },
    {
      "cell_type": "code",
      "source": [
        "# 8. Random Number Generation\n",
        "rand_arr = np.random.rand(2, 3)        # Uniform distribution\n",
        "rand_ints = np.random.randint(0, 10, (2, 2))\n",
        "normal_vals = np.random.randn(3, 3)    # Standard normal distribution\n",
        "print(\"Random Array:\\n\", rand_arr)\n",
        "print(\"Random Integers:\\n\", rand_ints)\n",
        "print(\"Normal Values:\\n\", normal_vals)"
      ],
      "metadata": {
        "colab": {
          "base_uri": "https://localhost:8080/"
        },
        "id": "08HW5kzvFGSJ",
        "outputId": "520964db-526f-4ad7-e312-a8967bf3d701"
      },
      "execution_count": 13,
      "outputs": [
        {
          "output_type": "stream",
          "name": "stdout",
          "text": [
            "Random Array:\n",
            " [[0.52016317 0.17167164 0.43171163]\n",
            " [0.30053392 0.96976357 0.11346015]]\n",
            "Random Integers:\n",
            " [[6 2]\n",
            " [0 9]]\n",
            "Normal Values:\n",
            " [[ 0.77263776 -0.31488056 -0.42078091]\n",
            " [ 1.16476762  0.19107746  0.40870479]\n",
            " [-0.45523557  0.26439173 -0.64745747]]\n"
          ]
        }
      ]
    },
    {
      "cell_type": "code",
      "source": [
        "# 9. Logical Operations\n",
        "logical_arr = np.array([10, 20, 30, 40])\n",
        "print(\"Elements > 25:\", logical_arr[logical_arr > 25])"
      ],
      "metadata": {
        "colab": {
          "base_uri": "https://localhost:8080/"
        },
        "id": "iHMbFH-VFUz-",
        "outputId": "f117896e-3848-411a-c5c8-6f105adadda8"
      },
      "execution_count": 14,
      "outputs": [
        {
          "output_type": "stream",
          "name": "stdout",
          "text": [
            "Elements > 25: [30 40]\n"
          ]
        }
      ]
    },
    {
      "cell_type": "code",
      "source": [
        "# 10. Broadcasting\n",
        "matrix = np.array([[1, 2, 3], [4, 5, 6]])\n",
        "print(\"Add 10 to all elements:\\n\", matrix + 10)\n",
        "print(\"Multiply each row by [1, 2, 3]:\\n\", matrix * np.array([1, 2, 3]))"
      ],
      "metadata": {
        "colab": {
          "base_uri": "https://localhost:8080/"
        },
        "id": "lLs-KS-VFmGn",
        "outputId": "b2344638-902f-4526-a9e4-8e3cf87314ba"
      },
      "execution_count": 15,
      "outputs": [
        {
          "output_type": "stream",
          "name": "stdout",
          "text": [
            "Add 10 to all elements:\n",
            " [[11 12 13]\n",
            " [14 15 16]]\n",
            "Multiply each row by [1, 2, 3]:\n",
            " [[ 1  4  9]\n",
            " [ 4 10 18]]\n"
          ]
        }
      ]
    },
    {
      "cell_type": "code",
      "source": [],
      "metadata": {
        "id": "H_pxW0XYFps7"
      },
      "execution_count": null,
      "outputs": []
    }
  ]
}