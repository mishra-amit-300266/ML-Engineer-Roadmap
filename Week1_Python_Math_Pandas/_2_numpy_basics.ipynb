{
  "nbformat": 4,
  "nbformat_minor": 0,
  "metadata": {
    "colab": {
      "provenance": [],
      "authorship_tag": "ABX9TyOThqkbJi0Y8eP9GvAQLi/J",
      "include_colab_link": true
    },
    "kernelspec": {
      "name": "python3",
      "display_name": "Python 3"
    },
    "language_info": {
      "name": "python"
    }
  },
  "cells": [
    {
      "cell_type": "markdown",
      "metadata": {
        "id": "view-in-github",
        "colab_type": "text"
      },
      "source": [
        "<a href=\"https://colab.research.google.com/github/mishra-amit-300266/ML-Engineer-Roadmap/blob/main/Week1_Python_Math_Pandas/_2_numpy_basics.ipynb\" target=\"_parent\"><img src=\"https://colab.research.google.com/assets/colab-badge.svg\" alt=\"Open In Colab\"/></a>"
      ]
    },
    {
      "cell_type": "code",
      "execution_count": 1,
      "metadata": {
        "id": "__x_3p3CGNtV"
      },
      "outputs": [],
      "source": [
        "import numpy as np"
      ]
    },
    {
      "cell_type": "markdown",
      "source": [
        "Task 1: Array Creation\n",
        "Create:\n",
        "A 1D array of first 10 natural numbers\n",
        "A 2D array of shape (3, 3) with random integers between 1-20\n",
        "An identity matrix of size 4x4"
      ],
      "metadata": {
        "id": "FFGxybxwGVwg"
      }
    },
    {
      "cell_type": "code",
      "source": [
        "arr1 = np.arange(1,11,1)\n",
        "arr2 = np.random.randint(1,20,(3,3))\n",
        "arr3 = np.eye(3)"
      ],
      "metadata": {
        "id": "ZJVpIBJLGoMK"
      },
      "execution_count": 2,
      "outputs": []
    },
    {
      "cell_type": "markdown",
      "source": [
        "Task 2: Indexing & Slicing\n",
        "Given a 5x5 matrix of numbers from 1 to 25:\n",
        "Extract the center 3x3 submatrix\n",
        "Extract the diagonal elements\n",
        "Print the last row and first column"
      ],
      "metadata": {
        "id": "xhDwX8jALgEt"
      }
    },
    {
      "cell_type": "code",
      "source": [
        "arr4 = np.arange(1,26,1)\n",
        "arr5 = np.reshape(arr4,(5,5))\n",
        "print(\"Center 3x3 matrix:\", arr5[1:4,1:4])\n",
        "print(\"Diagonal elements:\", arr5[0,0],arr5[1,1],arr5[2,2],arr5[3,3],arr5[4,4])\n",
        "print(\"Sum of diagonal elements:\", np.trace(arr5))\n",
        "print(\"Last Row: \",arr5[4,:])\n",
        "print(\"Last Column\",arr5[:,4])"
      ],
      "metadata": {
        "colab": {
          "base_uri": "https://localhost:8080/"
        },
        "id": "kApmg_PiHDkT",
        "outputId": "f115326d-0f5d-45b1-e46a-ec5fb8a68a20"
      },
      "execution_count": 4,
      "outputs": [
        {
          "output_type": "stream",
          "name": "stdout",
          "text": [
            "Center 3x3 matrix: [[ 7  8  9]\n",
            " [12 13 14]\n",
            " [17 18 19]]\n",
            "Diagonal elements: 1 7 13 19 25\n",
            "Sum of diagonal elements: 65\n",
            "Last Row:  [21 22 23 24 25]\n",
            "Last Column [ 5 10 15 20 25]\n"
          ]
        }
      ]
    },
    {
      "cell_type": "markdown",
      "source": [
        "Task 3: Arithmetic Operations\n",
        "Create two arrays: [1, 2, 3] and [4, 5, 6]\n",
        "\n",
        "Perform element-wise addition, subtraction, and multiplication\n",
        "\n",
        "Calculate their dot product"
      ],
      "metadata": {
        "id": "8gwPwac4GyrX"
      }
    },
    {
      "cell_type": "code",
      "source": [
        "arr6 = np.array([1,2,3])\n",
        "arr7 = np.array([4,5,6])\n",
        "print(arr6+arr7)\n",
        "print(arr6-arr7)\n",
        "print(arr6*arr7)\n",
        "print(np.dot(arr6,arr7))"
      ],
      "metadata": {
        "colab": {
          "base_uri": "https://localhost:8080/"
        },
        "id": "TFgnnVU2IUh3",
        "outputId": "84bb6790-9284-4604-d4e0-616cbfe332e6"
      },
      "execution_count": 5,
      "outputs": [
        {
          "output_type": "stream",
          "name": "stdout",
          "text": [
            "[5 7 9]\n",
            "[-3 -3 -3]\n",
            "[ 4 10 18]\n",
            "32\n"
          ]
        }
      ]
    },
    {
      "cell_type": "markdown",
      "source": [
        "Task 4: Statistical Operations\n",
        "Generate a 6x6 matrix of random floats between 0 and 1\n",
        "\n",
        "Find its mean, max, min, standard deviation\n",
        "\n",
        "Normalize it using min-max scaling"
      ],
      "metadata": {
        "id": "Oor8HNGTLrS4"
      }
    },
    {
      "cell_type": "code",
      "source": [
        "mat = np.random.rand(6,6)\n",
        "print(np.mean(mat))\n",
        "print(np.max(mat))\n",
        "print(np.min(mat))\n",
        "print(np.std(mat))\n",
        "print(\"Normalize using min-max Scaling:\", (mat-np.min(mat))/(np.max(mat)-np.min(mat)))"
      ],
      "metadata": {
        "colab": {
          "base_uri": "https://localhost:8080/"
        },
        "id": "NKrUAZz7Iq3Y",
        "outputId": "13953d96-e808-4462-cd6d-ee70a0cdd7be"
      },
      "execution_count": 8,
      "outputs": [
        {
          "output_type": "stream",
          "name": "stdout",
          "text": [
            "0.5431294124875836\n",
            "0.9965521065212044\n",
            "0.0074171734603502015\n",
            "0.32367083677438446\n",
            "Normalize using min-max Scaling: [[0.36054554 0.63421535 1.         0.11175749 0.92259456 0.75505436]\n",
            " [0.79167386 0.98649489 0.66997488 0.27049565 0.28041693 0.58186705]\n",
            " [0.46900765 0.217212   0.74473882 0.9408944  0.28480297 0.00949262]\n",
            " [0.93488762 0.94925021 0.         0.31599778 0.89870715 0.32445263]\n",
            " [0.91346644 0.07303034 0.43595881 0.61319543 0.41197777 0.11793298]\n",
            " [0.90170572 0.99028323 0.62073036 0.10411909 0.7332737  0.12727379]]\n"
          ]
        }
      ]
    },
    {
      "cell_type": "markdown",
      "source": [
        "Task5:\n",
        "Create a 3x3 matrix of all 2's\n",
        "Multiply each row with [1,2,3] using broadcasting"
      ],
      "metadata": {
        "id": "UE5iaP1yJuaz"
      }
    },
    {
      "cell_type": "code",
      "source": [
        "arr7 = np.array([1,2,3])\n",
        "arr8 = np.full((3,3),2)\n",
        "print(arr8*arr7)"
      ],
      "metadata": {
        "colab": {
          "base_uri": "https://localhost:8080/"
        },
        "id": "KYm74MAxI9hI",
        "outputId": "b06b3052-0841-4fbf-bda8-6e9b1b49a32b"
      },
      "execution_count": 9,
      "outputs": [
        {
          "output_type": "stream",
          "name": "stdout",
          "text": [
            "[[2 4 6]\n",
            " [2 4 6]\n",
            " [2 4 6]]\n"
          ]
        }
      ]
    },
    {
      "cell_type": "markdown",
      "source": [
        " Task 6: Reshape & Stack\n",
        "Create a 1D array of 16 numbers\n",
        "\n",
        "Reshape it into 4x4\n",
        "\n",
        "Split into two 2x4 matrices (horizontally)\n",
        "\n",
        "Stack them vertically again\n",
        "\n"
      ],
      "metadata": {
        "id": "M5FiBtC9LwDo"
      }
    },
    {
      "cell_type": "code",
      "source": [
        "arr9 = np.arange(16)\n",
        "arr10 = np.reshape(arr9,(4,4))\n",
        "arr11 = arr10[:2,:]\n",
        "arr12 = arr10[2:,:]\n",
        "print(np.vstack((arr11,arr12)))"
      ],
      "metadata": {
        "colab": {
          "base_uri": "https://localhost:8080/"
        },
        "id": "Cb3rEYlCKU6J",
        "outputId": "d0f02be0-ad17-4314-8366-6fc0cf713ede"
      },
      "execution_count": 12,
      "outputs": [
        {
          "output_type": "stream",
          "name": "stdout",
          "text": [
            "[[ 0  1  2  3]\n",
            " [ 4  5  6  7]\n",
            " [ 8  9 10 11]\n",
            " [12 13 14 15]]\n"
          ]
        }
      ]
    },
    {
      "cell_type": "markdown",
      "source": [
        "Bonus Task: Build a NumPy-based Calculator\n",
        "Create functions for:\n",
        "\n",
        "Element-wise addition\n",
        "\n",
        "Dot product\n",
        "\n",
        "Matrix inversion\n",
        "\n",
        "Transpose"
      ],
      "metadata": {
        "id": "vekJ5DKDM4Sv"
      }
    },
    {
      "cell_type": "code",
      "source": [
        "def array_addition(arr1,arr2):\n",
        "  print(\"Element wise addition:\", arr1+arr2)\n",
        "def array_dotProduct(arr1,arr2):\n",
        "  print(\"Dot Product:\", np.dot(arr1,arr2))\n",
        "def array_inversion(arr1):\n",
        "  try:\n",
        "    print(\"Matrix Inversion:\\n\", np.linalg.inv(arr1))\n",
        "  except np.linalg.LinAlgError:\n",
        "    print(\"Matrix is singular and cannot be inverted.\")\n",
        "def array_transpose(arr1):\n",
        "  print(\"Transpose:\", arr1.T)\n",
        "\n",
        "arr13 = np.array([[1,2,3],[4,5,6],[7,8,9]])\n",
        "arr14 = np.array([[9,8,7],[6,5,4],[3,2,1]])\n",
        "array_addition(arr13,arr14)\n",
        "array_dotProduct(arr13,arr14)\n",
        "array_inversion(arr13)\n",
        "array_transpose(arr13)"
      ],
      "metadata": {
        "colab": {
          "base_uri": "https://localhost:8080/"
        },
        "id": "chGuTbkfLBvN",
        "outputId": "e8d69ff1-a5bd-4da4-cd69-d45c5a324c62"
      },
      "execution_count": 14,
      "outputs": [
        {
          "output_type": "stream",
          "name": "stdout",
          "text": [
            "Element wise addition: [[10 10 10]\n",
            " [10 10 10]\n",
            " [10 10 10]]\n",
            "Dot Product: [[ 30  24  18]\n",
            " [ 84  69  54]\n",
            " [138 114  90]]\n",
            "Matrix is singular and cannot be inverted.\n",
            "Transpose: [[1 4 7]\n",
            " [2 5 8]\n",
            " [3 6 9]]\n"
          ]
        }
      ]
    },
    {
      "cell_type": "code",
      "source": [],
      "metadata": {
        "id": "cgkvFLO0Mt06"
      },
      "execution_count": null,
      "outputs": []
    }
  ]
}