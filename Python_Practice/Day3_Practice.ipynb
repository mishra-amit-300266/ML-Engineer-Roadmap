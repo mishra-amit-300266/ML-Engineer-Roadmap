{
  "nbformat": 4,
  "nbformat_minor": 0,
  "metadata": {
    "colab": {
      "provenance": [],
      "authorship_tag": "ABX9TyPPKVwQoFF8DOe/u7B3Auvy",
      "include_colab_link": true
    },
    "kernelspec": {
      "name": "python3",
      "display_name": "Python 3"
    },
    "language_info": {
      "name": "python"
    }
  },
  "cells": [
    {
      "cell_type": "markdown",
      "metadata": {
        "id": "view-in-github",
        "colab_type": "text"
      },
      "source": [
        "<a href=\"https://colab.research.google.com/github/mishra-amit-300266/ML-Engineer-Roadmap/blob/main/Python_Practice/Day3_Practice.ipynb\" target=\"_parent\"><img src=\"https://colab.research.google.com/assets/colab-badge.svg\" alt=\"Open In Colab\"/></a>"
      ]
    },
    {
      "cell_type": "code",
      "execution_count": 1,
      "metadata": {
        "colab": {
          "base_uri": "https://localhost:8080/"
        },
        "id": "ghPl-fJ7Cxea",
        "outputId": "dc74fda4-5b66-4f24-8a1b-cd71d9a41112"
      },
      "outputs": [
        {
          "output_type": "stream",
          "name": "stdout",
          "text": [
            "nohtyP\n"
          ]
        }
      ],
      "source": [
        "string = \"Python\"\n",
        "reverse_string = string[::-1]\n",
        "print(reverse_string)"
      ]
    },
    {
      "cell_type": "code",
      "source": [
        "sentence = \"This is a sample sentence\"\n",
        "words = sentence.split()\n",
        "print(len(words))"
      ],
      "metadata": {
        "colab": {
          "base_uri": "https://localhost:8080/"
        },
        "id": "tcN4OyvSC325",
        "outputId": "c2bfe1b4-604c-4f3c-9dd4-c2e3041983b4"
      },
      "execution_count": 4,
      "outputs": [
        {
          "output_type": "stream",
          "name": "stdout",
          "text": [
            "5\n"
          ]
        }
      ]
    },
    {
      "cell_type": "code",
      "source": [
        "text = \"Hello World\"\n",
        "for i in text:\n",
        "  if i in \"aeiouAEIOU\":\n",
        "    text = text.replace(i,'*')\n",
        "print(text)"
      ],
      "metadata": {
        "colab": {
          "base_uri": "https://localhost:8080/"
        },
        "id": "e14T-NxGDGsx",
        "outputId": "1f2ff972-807f-4db1-a041-28dc67b65aa3"
      },
      "execution_count": 7,
      "outputs": [
        {
          "output_type": "stream",
          "name": "stdout",
          "text": [
            "H*ll* W*rld\n"
          ]
        }
      ]
    },
    {
      "cell_type": "code",
      "source": [
        "my_list = [1, 3, 1, 3, 2, 1]\n",
        "max_count = 0\n",
        "ele = 0\n",
        "for i in my_list:\n",
        "  temp = my_list.count(i)\n",
        "  if temp > max_count:\n",
        "    max_count = temp\n",
        "    ele = i\n",
        "\n",
        "print(ele)"
      ],
      "metadata": {
        "colab": {
          "base_uri": "https://localhost:8080/"
        },
        "id": "kXm0fXmkDg8H",
        "outputId": "dc84f8da-1d5e-4383-8498-35d2cf40a770"
      },
      "execution_count": 13,
      "outputs": [
        {
          "output_type": "stream",
          "name": "stdout",
          "text": [
            "1\n"
          ]
        }
      ]
    },
    {
      "cell_type": "code",
      "source": [
        "my_list = [1, 2, 2, 3, 4, 4, 5]\n",
        "new_list = []\n",
        "for i in range(len(my_list)):\n",
        "  if my_list[i] not in new_list:\n",
        "    new_list.append(my_list[i])\n",
        "print(new_list)"
      ],
      "metadata": {
        "colab": {
          "base_uri": "https://localhost:8080/"
        },
        "id": "r4Q9k-Q4EjiS",
        "outputId": "198ef8fc-4a1b-46e7-c8e4-f314ec5e33fe"
      },
      "execution_count": 9,
      "outputs": [
        {
          "output_type": "stream",
          "name": "stdout",
          "text": [
            "[1, 2, 3, 4, 5]\n"
          ]
        }
      ]
    },
    {
      "cell_type": "code",
      "source": [
        "nested = [[1, 2], [3, 4], [5, 6]]\n",
        "flattened = []\n",
        "\n",
        "for sublist in nested:\n",
        "    for item in sublist:\n",
        "        flattened.append(item)\n",
        "\n",
        "print(flattened)"
      ],
      "metadata": {
        "colab": {
          "base_uri": "https://localhost:8080/"
        },
        "id": "2g_fcdfFE8vD",
        "outputId": "ab1c8264-3fcc-4f8f-d420-b95ce7b36d88"
      },
      "execution_count": 12,
      "outputs": [
        {
          "output_type": "stream",
          "name": "stdout",
          "text": [
            "[1, 2, 3, 4, 5, 6]\n"
          ]
        }
      ]
    },
    {
      "cell_type": "code",
      "source": [
        "nums = [1, 2, 3, 4, 5, 6]\n",
        "sq = []\n",
        "for i in nums:\n",
        "  if i%2 == 0:\n",
        "    sq.append(i*i)\n",
        "print(sq)"
      ],
      "metadata": {
        "colab": {
          "base_uri": "https://localhost:8080/"
        },
        "id": "1g-uUnJmFG3f",
        "outputId": "bee4d3cc-b674-4b1d-c121-7e8a4925f5bc"
      },
      "execution_count": 10,
      "outputs": [
        {
          "output_type": "stream",
          "name": "stdout",
          "text": [
            "[4, 16, 36]\n"
          ]
        }
      ]
    },
    {
      "cell_type": "code",
      "source": [
        "sentence = \"Python is fun and powerful\"\n",
        "temp = sentence.split()\n",
        "output = []\n",
        "for i in temp:\n",
        "  if len(i) > 3:\n",
        "    output.append(i)\n",
        "print(output)"
      ],
      "metadata": {
        "colab": {
          "base_uri": "https://localhost:8080/"
        },
        "id": "X2BW9-u9FPDu",
        "outputId": "2f210b65-54be-414d-f4c1-ec3b74bd465a"
      },
      "execution_count": 11,
      "outputs": [
        {
          "output_type": "stream",
          "name": "stdout",
          "text": [
            "['Python', 'powerful']\n"
          ]
        }
      ]
    },
    {
      "cell_type": "code",
      "source": [],
      "metadata": {
        "id": "sRtRy3l4Fbhr"
      },
      "execution_count": null,
      "outputs": []
    }
  ]
}