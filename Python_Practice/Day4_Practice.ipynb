{
  "nbformat": 4,
  "nbformat_minor": 0,
  "metadata": {
    "colab": {
      "provenance": [],
      "authorship_tag": "ABX9TyPnFdMJeIlKYff0o0V4QI/O",
      "include_colab_link": true
    },
    "kernelspec": {
      "name": "python3",
      "display_name": "Python 3"
    },
    "language_info": {
      "name": "python"
    }
  },
  "cells": [
    {
      "cell_type": "markdown",
      "metadata": {
        "id": "view-in-github",
        "colab_type": "text"
      },
      "source": [
        "<a href=\"https://colab.research.google.com/github/mishra-amit-300266/ML-Engineer-Roadmap/blob/main/Python_Practice/Day4_Practice.ipynb\" target=\"_parent\"><img src=\"https://colab.research.google.com/assets/colab-badge.svg\" alt=\"Open In Colab\"/></a>"
      ]
    },
    {
      "cell_type": "code",
      "execution_count": 1,
      "metadata": {
        "colab": {
          "base_uri": "https://localhost:8080/"
        },
        "id": "SdrVxAurDy5C",
        "outputId": "bef0e641-11f6-4702-be89-c6dfddc87322"
      },
      "outputs": [
        {
          "output_type": "stream",
          "name": "stdout",
          "text": [
            "1 2 3 4 5 "
          ]
        }
      ],
      "source": [
        "t = (1,2,3,4,5)\n",
        "for i in t:\n",
        "  print(i, end = \" \")"
      ]
    },
    {
      "cell_type": "code",
      "source": [
        "#t[0] = 2\n",
        "#getting error as tuple is immutable"
      ],
      "metadata": {
        "id": "dCQCkG9QD7HP"
      },
      "execution_count": 3,
      "outputs": []
    },
    {
      "cell_type": "code",
      "source": [
        "t1 = (1,2,3,4)\n",
        "t2 = (5,6,7)\n",
        "t3 = t1+t2\n",
        "print(t3)"
      ],
      "metadata": {
        "colab": {
          "base_uri": "https://localhost:8080/"
        },
        "id": "H2-zadgWEAxd",
        "outputId": "4f449001-fbe0-4369-c567-14d6a0c392ea"
      },
      "execution_count": 4,
      "outputs": [
        {
          "output_type": "stream",
          "name": "stdout",
          "text": [
            "(1, 2, 3, 4, 5, 6, 7)\n"
          ]
        }
      ]
    },
    {
      "cell_type": "code",
      "source": [
        "s = {1,2,3}\n",
        "s.remove(1)\n",
        "print(s)"
      ],
      "metadata": {
        "colab": {
          "base_uri": "https://localhost:8080/"
        },
        "id": "Z6Jv8hxwEQOS",
        "outputId": "ee06e0f9-0904-440b-810e-8ad8968fe437"
      },
      "execution_count": 9,
      "outputs": [
        {
          "output_type": "stream",
          "name": "stdout",
          "text": [
            "{2, 3}\n"
          ]
        }
      ]
    },
    {
      "cell_type": "code",
      "source": [
        "s1 = {1,2,3,4}\n",
        "s2 = {3,1,5}\n",
        "print(s1.union(s2))\n",
        "print(s1.intersection(s2))"
      ],
      "metadata": {
        "colab": {
          "base_uri": "https://localhost:8080/"
        },
        "id": "fhK4cSZCEa78",
        "outputId": "be3331d7-b59a-4d83-dd9f-af1aad7a6ebd"
      },
      "execution_count": 10,
      "outputs": [
        {
          "output_type": "stream",
          "name": "stdout",
          "text": [
            "{1, 2, 3, 4, 5}\n",
            "{1, 3}\n"
          ]
        }
      ]
    },
    {
      "cell_type": "code",
      "source": [
        "di = {\n",
        "    \"0\":\"a\",\n",
        "    \"1\":\"b\",\n",
        "    \"2\":\"c\"\n",
        "      }\n",
        "print(di)"
      ],
      "metadata": {
        "colab": {
          "base_uri": "https://localhost:8080/"
        },
        "id": "bZBpdtA4FAXc",
        "outputId": "3ba87bfa-be2a-45ed-d8ec-af0c444c8a5a"
      },
      "execution_count": 16,
      "outputs": [
        {
          "output_type": "stream",
          "name": "stdout",
          "text": [
            "{'0': 'a', '1': 'b', '2': 'c'}\n"
          ]
        }
      ]
    },
    {
      "cell_type": "code",
      "source": [
        "di[\"1\"] = \"d\"\n",
        "di[\"3\"] = \"e\"\n",
        "print(di)"
      ],
      "metadata": {
        "colab": {
          "base_uri": "https://localhost:8080/"
        },
        "id": "P4HdT3PyFiD9",
        "outputId": "3caacb6a-f031-4b4a-e45a-862b53f6b49e"
      },
      "execution_count": 17,
      "outputs": [
        {
          "output_type": "stream",
          "name": "stdout",
          "text": [
            "{'0': 'a', '1': 'd', '2': 'c', '3': 'e'}\n"
          ]
        }
      ]
    },
    {
      "cell_type": "code",
      "source": [
        "di.pop(\"0\")\n",
        "print(di)"
      ],
      "metadata": {
        "colab": {
          "base_uri": "https://localhost:8080/"
        },
        "id": "Ex5bkharFS1Y",
        "outputId": "ee59d836-eb93-4cd8-f6a9-fbd82bf079a6"
      },
      "execution_count": 18,
      "outputs": [
        {
          "output_type": "stream",
          "name": "stdout",
          "text": [
            "{'1': 'd', '2': 'c', '3': 'e'}\n"
          ]
        }
      ]
    },
    {
      "cell_type": "code",
      "source": [
        "for key,value in di.items():\n",
        "  print(f\"{key} -> {value}\")"
      ],
      "metadata": {
        "colab": {
          "base_uri": "https://localhost:8080/"
        },
        "id": "8Ab-r7GkFYMs",
        "outputId": "a6c3fbd0-7996-4579-af37-110ef8d79b61"
      },
      "execution_count": 20,
      "outputs": [
        {
          "output_type": "stream",
          "name": "stdout",
          "text": [
            "1 -> d\n",
            "2 -> c\n",
            "3 -> e\n"
          ]
        }
      ]
    }
  ]
}