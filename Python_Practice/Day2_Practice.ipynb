{
  "nbformat": 4,
  "nbformat_minor": 0,
  "metadata": {
    "colab": {
      "provenance": [],
      "authorship_tag": "ABX9TyPtugFpd2PSSR2jLxy3b1sl",
      "include_colab_link": true
    },
    "kernelspec": {
      "name": "python3",
      "display_name": "Python 3"
    },
    "language_info": {
      "name": "python"
    }
  },
  "cells": [
    {
      "cell_type": "markdown",
      "metadata": {
        "id": "view-in-github",
        "colab_type": "text"
      },
      "source": [
        "<a href=\"https://colab.research.google.com/github/mishra-amit-300266/ML-Engineer-Roadmap/blob/main/Python_Practice/Day2_Practice.ipynb\" target=\"_parent\"><img src=\"https://colab.research.google.com/assets/colab-badge.svg\" alt=\"Open In Colab\"/></a>"
      ]
    },
    {
      "cell_type": "code",
      "execution_count": 2,
      "metadata": {
        "colab": {
          "base_uri": "https://localhost:8080/"
        },
        "id": "GrgKDTU6o7LY",
        "outputId": "c3456140-0860-447e-9c97-0daec875480e"
      },
      "outputs": [
        {
          "output_type": "stream",
          "name": "stdout",
          "text": [
            "5  is the maxim\n"
          ]
        }
      ],
      "source": [
        "def maxim(a = 0, b = 0, c = 0):\n",
        "  if a >= b and a >= c:\n",
        "    return a\n",
        "  elif b >= a and b >= c:\n",
        "    return b\n",
        "  else:\n",
        "    return c\n",
        "\n",
        "print(maxim(4,2,5), \" is the maxim\")"
      ]
    },
    {
      "cell_type": "code",
      "source": [
        "def check_pallindrome(string = \"\"):\n",
        "  length = len(string)\n",
        "  low = 0\n",
        "  high = length-1\n",
        "  while(low<high):\n",
        "    if(string[low] != string[high]):\n",
        "      return False\n",
        "    low+=1\n",
        "    high-=1\n",
        "  return True\n",
        "\n",
        "string = \"madam\"\n",
        "if(check_pallindrome(string)):\n",
        "  print(f\"{string} is pallindrome\")\n",
        "else:\n",
        "  print(f\"{string} is not pallindrome\")"
      ],
      "metadata": {
        "colab": {
          "base_uri": "https://localhost:8080/"
        },
        "id": "JXFk_RSapYdP",
        "outputId": "a02bc6ea-4964-4d39-a3fd-999b9ddbe609"
      },
      "execution_count": 4,
      "outputs": [
        {
          "output_type": "stream",
          "name": "stdout",
          "text": [
            "madam is pallindrome\n"
          ]
        }
      ]
    },
    {
      "cell_type": "code",
      "source": [
        "def count_vowels(string = \"\"):\n",
        "  vowels = \"aeiouAEIOU\"\n",
        "  count = 0\n",
        "  for i in string:\n",
        "    if i in vowels:\n",
        "      count += 1\n",
        "  return count\n",
        "\n",
        "print(count_vowels(\"hello world\"))"
      ],
      "metadata": {
        "colab": {
          "base_uri": "https://localhost:8080/"
        },
        "id": "-C3ISAgqqLdc",
        "outputId": "6cfab719-e61d-48a4-e7d3-38c2f4e4b763"
      },
      "execution_count": 6,
      "outputs": [
        {
          "output_type": "stream",
          "name": "stdout",
          "text": [
            "3\n"
          ]
        }
      ]
    },
    {
      "cell_type": "code",
      "source": [
        "def sum_and_product(list = []):\n",
        "  sum = 0\n",
        "  prod = 1\n",
        "  for i in list:\n",
        "    sum += i\n",
        "    prod *= i\n",
        "  return sum, prod\n",
        "\n",
        "list = [1,2,3,4,5]\n",
        "sum, prod = sum_and_product(list)\n",
        "print(f\"sum = {sum} and product = {prod}\")"
      ],
      "metadata": {
        "colab": {
          "base_uri": "https://localhost:8080/"
        },
        "id": "6kIlCczPqp5O",
        "outputId": "ab168758-a679-45c2-8c33-d83f0be60449"
      },
      "execution_count": 7,
      "outputs": [
        {
          "output_type": "stream",
          "name": "stdout",
          "text": [
            "sum = 15 and product = 120\n"
          ]
        }
      ]
    },
    {
      "cell_type": "code",
      "source": [
        "def sum_all(*args):\n",
        "    total_sum = 0\n",
        "    for arg in args:\n",
        "        total_sum += arg\n",
        "    return total_sum\n",
        "\n",
        "print(sum_all(1, 2, 3))\n",
        "print(sum_all(10, 20, 30, 40))"
      ],
      "metadata": {
        "colab": {
          "base_uri": "https://localhost:8080/"
        },
        "id": "V_Ld1M-gq8G6",
        "outputId": "0c2e2fc1-1feb-43d0-879b-b0dc8d1973e2"
      },
      "execution_count": 12,
      "outputs": [
        {
          "output_type": "stream",
          "name": "stdout",
          "text": [
            "6\n",
            "100\n"
          ]
        }
      ]
    },
    {
      "cell_type": "code",
      "source": [
        "def print_person_info(**kwargs):\n",
        "    for key, value in kwargs.items():\n",
        "        print(f\"{key.capitalize()}: {value}\")\n",
        "\n",
        "print_person_info(name=\"Amit\", age=25, country=\"India\")"
      ],
      "metadata": {
        "colab": {
          "base_uri": "https://localhost:8080/"
        },
        "id": "NpwhKsUcrSpD",
        "outputId": "4022e39a-b7cc-4701-b9bc-3b3fbb76d3af"
      },
      "execution_count": 11,
      "outputs": [
        {
          "output_type": "stream",
          "name": "stdout",
          "text": [
            "Name: Amit\n",
            "Age: 25\n",
            "Country: India\n"
          ]
        }
      ]
    },
    {
      "cell_type": "code",
      "source": [],
      "metadata": {
        "id": "QRp-WfqXroM0"
      },
      "execution_count": null,
      "outputs": []
    }
  ]
}