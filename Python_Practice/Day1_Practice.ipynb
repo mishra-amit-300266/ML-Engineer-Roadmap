{
  "nbformat": 4,
  "nbformat_minor": 0,
  "metadata": {
    "colab": {
      "provenance": [],
      "authorship_tag": "ABX9TyOPrmHFAs/iAI18yPXSUha9",
      "include_colab_link": true
    },
    "kernelspec": {
      "name": "python3",
      "display_name": "Python 3"
    },
    "language_info": {
      "name": "python"
    }
  },
  "cells": [
    {
      "cell_type": "markdown",
      "metadata": {
        "id": "view-in-github",
        "colab_type": "text"
      },
      "source": [
        "<a href=\"https://colab.research.google.com/github/mishra-amit-300266/ML-Engineer-Roadmap/blob/main/Python_Practice/Day1_Practice.ipynb\" target=\"_parent\"><img src=\"https://colab.research.google.com/assets/colab-badge.svg\" alt=\"Open In Colab\"/></a>"
      ]
    },
    {
      "cell_type": "code",
      "execution_count": 3,
      "metadata": {
        "colab": {
          "base_uri": "https://localhost:8080/"
        },
        "id": "Q_1oeFWPfNS6",
        "outputId": "7cafcc09-ca3d-4c35-988f-11bf562ce678"
      },
      "outputs": [
        {
          "output_type": "stream",
          "name": "stdout",
          "text": [
            "Enter the number: 4\n",
            "4 is positive\n"
          ]
        }
      ],
      "source": [
        "num = int(input(\"Enter the number: \"))\n",
        "if num > 0:\n",
        "  print(f\"{num} is positive\")\n",
        "elif num < 0:\n",
        "  print(f\"{num} is negative\")\n",
        "else:\n",
        "   print(f\"{num} is zero\")"
      ]
    },
    {
      "cell_type": "code",
      "source": [
        "num = int(input(\"Enter the number: \"))\n",
        "if num >= 0:\n",
        "  fact = 1\n",
        "  for i in range(2,num+1):\n",
        "    fact *= i\n",
        "  print(f\"Factorial of {num} is {fact}\")\n",
        "else:\n",
        "  print(\"Invalid Input\")"
      ],
      "metadata": {
        "colab": {
          "base_uri": "https://localhost:8080/"
        },
        "id": "ncl0GUkofg1y",
        "outputId": "5281db99-e248-4cfc-8296-039678cc76d6"
      },
      "execution_count": 5,
      "outputs": [
        {
          "output_type": "stream",
          "name": "stdout",
          "text": [
            "Enter the number: -4\n",
            "Invalid Input\n"
          ]
        }
      ]
    },
    {
      "cell_type": "code",
      "source": [
        "print(\"Even numbers between 1 and 100: \")\n",
        "for i in range (2,100,2):\n",
        "  print(i,end=\" \")"
      ],
      "metadata": {
        "colab": {
          "base_uri": "https://localhost:8080/"
        },
        "id": "7vQa4a2XgKVc",
        "outputId": "1f822c16-1b0d-422f-c04d-db1024dfa140"
      },
      "execution_count": 7,
      "outputs": [
        {
          "output_type": "stream",
          "name": "stdout",
          "text": [
            "Even numbers between 1 and 100: \n",
            "2 4 6 8 10 12 14 16 18 20 22 24 26 28 30 32 34 36 38 40 42 44 46 48 50 52 54 56 58 60 62 64 66 68 70 72 74 76 78 80 82 84 86 88 90 92 94 96 98 "
          ]
        }
      ]
    },
    {
      "cell_type": "code",
      "source": [
        "num = int(input(\"How many Fibonacci terms? \"))\n",
        "a, b = 0, 1\n",
        "count = 0\n",
        "while count < num:\n",
        "    print(a, end = \" \")\n",
        "    a, b = b, a + b\n",
        "    count += 1"
      ],
      "metadata": {
        "colab": {
          "base_uri": "https://localhost:8080/"
        },
        "id": "hFzmrhVkgiNz",
        "outputId": "618ba788-fdfb-4171-a4f7-ccb8fd0aa9e1"
      },
      "execution_count": 9,
      "outputs": [
        {
          "output_type": "stream",
          "name": "stdout",
          "text": [
            "How many Fibonacci terms? 5\n",
            "0 1 1 2 3 "
          ]
        }
      ]
    },
    {
      "cell_type": "code",
      "source": [
        "num1 = int(input(\"Enter the number 1: \"))\n",
        "num2 = int(input(\"Enter the number 2: \"))\n",
        "option = input(\"Enter the option(+,-,/,*): \")\n",
        "print(\"Result: \")\n",
        "if option == '+':\n",
        "  print(num1+num2)\n",
        "elif option == '-':\n",
        "  print(num1-num2)\n",
        "elif option == '*':\n",
        "  print(num1*num2)\n",
        "elif option == '/' and num2 != 0:\n",
        "  print(num1/num2)\n",
        "elif option == '/' and num2 == 0:\n",
        "  print(\"Division by zero is not possible\")\n",
        "else:\n",
        "  print(\"Invalid option\")"
      ],
      "metadata": {
        "colab": {
          "base_uri": "https://localhost:8080/"
        },
        "id": "UmPJEl1Sg6JH",
        "outputId": "6cc7367b-af70-4382-c688-aaf5f805fdbd"
      },
      "execution_count": 13,
      "outputs": [
        {
          "output_type": "stream",
          "name": "stdout",
          "text": [
            "Enter the number 1: 5\n",
            "Enter the number 2: 7\n",
            "Enter the option(+,-,/,*): *\n",
            "Result: \n",
            "35\n"
          ]
        }
      ]
    },
    {
      "cell_type": "code",
      "source": [],
      "metadata": {
        "id": "GwZZkZAYhZOR"
      },
      "execution_count": null,
      "outputs": []
    }
  ]
}